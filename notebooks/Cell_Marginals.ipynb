{
 "cells": [
  {
   "cell_type": "markdown",
   "metadata": {},
   "source": [
    "# Cell marginals to weight differential gene expression\n",
    "\n",
    "This notebook shows how to use cell marginals, collected during the equilibration of the markov chain, as additional covariates in finding marker genes for each cluster. Cell marginals are the posterior probabilities of the inferred model, in lean terms they measure the uncertainity for a cell to belong to a specific group.\n",
    "This demonstration is performed on 3k PBMC available from 10x datasets. Note that the preprocessing is copied from [scanpy's tutorial](https://scanpy-tutorials.readthedocs.io/en/latest/pbmc3k.html)"
   ]
  },
  {
   "cell_type": "code",
   "execution_count": 1,
   "metadata": {},
   "outputs": [
    {
     "name": "stdout",
     "output_type": "stream",
     "text": [
      "Using matplotlib backend: MacOSX\n",
      "Populating the interactive namespace from numpy and matplotlib\n"
     ]
    }
   ],
   "source": [
    "import scanpy as sc\n",
    "import scnsbm\n",
    "import pandas as pd\n",
    "%pylab\n",
    "%matplotlib inline\n",
    "import warnings\n",
    "warnings.filterwarnings('ignore')\n",
    "import anndata\n",
    "import statsmodels.api as sm"
   ]
  },
  {
   "cell_type": "code",
   "execution_count": 2,
   "metadata": {},
   "outputs": [
    {
     "name": "stdout",
     "output_type": "stream",
     "text": [
      "filtered out 19024 genes that are detected in less than 3 cells\n",
      "normalizing counts per cell\n",
      "    finished (0:00:03)\n",
      "extracting highly variable genes\n",
      "    finished (0:00:01)\n",
      "regressing out ['n_counts', 'percent_mito']\n",
      "    sparse input is densified and may lead to high memory use\n",
      "    finished (0:00:10)\n",
      "computing PCA with n_comps = 50\n",
      "    on highly variable genes\n",
      "    finished (0:00:00)\n"
     ]
    },
    {
     "data": {
      "image/png": "[encoded data removed]",
      "text/plain": [
       "<Figure size 432x288 with 1 Axes>"
      ]
     },
     "metadata": {
      "needs_background": "light"
     },
     "output_type": "display_data"
    },
    {
     "name": "stdout",
     "output_type": "stream",
     "text": [
      "computing neighbors\n",
      "    using 'X_pca' with n_pcs = 40\n",
      "    finished (0:00:04)\n",
      "computing UMAP\n",
      "    finished (0:00:08)\n",
      "running Leiden clustering\n",
      "    finished (0:00:01)\n"
     ]
    }
   ],
   "source": [
    "adata = sc.datasets.pbmc3k()\n",
    "\n",
    "sc.settings.verbosity=2\n",
    "\n",
    "sc.pp.filter_cells(adata, min_genes=200)\n",
    "sc.pp.filter_genes(adata, min_cells=3)\n",
    "\n",
    "mito_genes = adata.var_names.str.startswith('MT-')\n",
    "adata.obs['percent_mito'] = np.sum(\n",
    "    adata[:, mito_genes].X, axis=1).A1 / np.sum(adata.X, axis=1).A1\n",
    "adata.obs['n_counts'] = adata.X.sum(axis=1).A1\n",
    "\n",
    "\n",
    "adata = adata[adata.obs.n_genes < 2500, :]\n",
    "adata = adata[adata.obs.percent_mito < 0.05, :]\n",
    "\n",
    "sc.pp.normalize_total(adata, target_sum=1e4)\n",
    "sc.pp.log1p(adata)\n",
    "\n",
    "adata.raw = adata\n",
    "\n",
    "sc.pp.highly_variable_genes(adata, min_mean=0.0125, max_mean=3, min_disp=0.5)\n",
    "\n",
    "adata = adata[:, adata.var.highly_variable]\n",
    "\n",
    "sc.pp.regress_out(adata, ['n_counts', 'percent_mito'])\n",
    "sc.pp.scale(adata, max_value=10)\n",
    "\n",
    "sc.tl.pca(adata, svd_solver='arpack')\n",
    "\n",
    "sc.pl.pca_variance_ratio(adata, log=True)\n",
    "\n",
    "sc.pp.neighbors(adata, n_neighbors=10, n_pcs=40)\n",
    "\n",
    "sc.tl.umap(adata)\n",
    "sc.tl.leiden(adata)"
   ]
  },
  {
   "cell_type": "markdown",
   "metadata": {},
   "source": [
    "Once data have been processed, we run the inference for the nested model. Here we also collect cell marginals. This option needs to be specified as, by default, is set to `False`. By default it forces an additional equilibration step for a fixed number of iterations (10,000). It requires significantly more time to run."
   ]
  },
  {
   "cell_type": "code",
   "execution_count": null,
   "metadata": {
    "scrolled": true
   },
   "outputs": [
    {
     "name": "stdout",
     "output_type": "stream",
     "text": [
      "WARNING: Collecting marginals has a large impact on running time\n",
      "minimizing the nested Stochastic Block Model\n",
      "    done (0:02:48)\n",
      "running MCMC sweep step with 10000 iterations\n",
      "    done (0:08:52)\n",
      "running MCMC equilibration step\n",
      "    collecting marginals\n"
     ]
    }
   ],
   "source": [
    "scnsbm.inference.nested_model(adata, random_seed=1024, epsilon=1e-3, collect_marginals=True)"
   ]
  },
  {
   "cell_type": "code",
   "execution_count": null,
   "metadata": {},
   "outputs": [],
   "source": [
    "adata.write(\"pbcm3k_nested_simple.h5ad\")"
   ]
  },
  {
   "cell_type": "markdown",
   "metadata": {},
   "source": [
    "We focus on level 2 of NSBM hierarchy, which closely recapitulates the one in the tutorials. Yet we found some additional small group."
   ]
  },
  {
   "cell_type": "code",
   "execution_count": null,
   "metadata": {},
   "outputs": [],
   "source": [
    "sc.pl.umap(adata, color=['leiden', 'nsbm_level_2'], legend_loc='on data')"
   ]
  },
  {
   "cell_type": "markdown",
   "metadata": {},
   "source": [
    "`adata.uns` contains a slot for cell marginals, it is a dictionary in which each key is a level (including level 0). Data are counts, so it need to be normalized to 1"
   ]
  },
  {
   "cell_type": "code",
   "execution_count": null,
   "metadata": {},
   "outputs": [],
   "source": [
    "marginals = adata.uns['nsbm']['cell_marginals'][2] \n",
    "marginals = marginals / np.sum(marginals, axis=1).max() #marginals are counts, normalize by their sum (collect_niter)"
   ]
  },
  {
   "cell_type": "markdown",
   "metadata": {},
   "source": [
    "We use here a generalized linear model (GLM) from `pystatsmodels`. In order to perform a comparison, we build a model in which covariates are groups definition and a weighted model in which covariates are cell marginals. In the end we will add two slots to `adata.uns` built over the template for `rank_genes_groups`. Note, however, that fold changes are the coefficients of the GLM, and they are not calculated as in default t-test. When t-test is performed each group is compared to the remaining cells, here instead coefficients should be interpreted as fold changes for a group corrected for all the other covariates."
   ]
  },
  {
   "cell_type": "code",
   "execution_count": null,
   "metadata": {},
   "outputs": [],
   "source": [
    "groups = sm.tools.categorical(data = adata.obs, col='nsbm_level_2', drop=True) #convert to dummy variables"
   ]
  },
  {
   "cell_type": "code",
   "execution_count": null,
   "metadata": {},
   "outputs": [],
   "source": [
    "expr_values = adata.X #get expression data from the matrix"
   ]
  },
  {
   "cell_type": "code",
   "execution_count": null,
   "metadata": {},
   "outputs": [],
   "source": [
    "flat_model = [sm.GLM(expr_values[:, x], sm.add_constant(groups)) for x in range(expr_values.shape[1])]\n",
    "flat_results = [x.fit() for x in flat_model]"
   ]
  },
  {
   "cell_type": "code",
   "execution_count": null,
   "metadata": {},
   "outputs": [],
   "source": [
    "flat_scores = np.array([x.params[1:] for x in flat_results])\n",
    "flat_pvals = np.array([x.pvalues[1:] for x in flat_results])\n",
    "flat_fdr = np.array([sm.stats.multipletests(flat_pvals[:, x], method='fdr_bh')[1] for x in range(flat_pvals.shape[1])]).T"
   ]
  },
  {
   "cell_type": "code",
   "execution_count": null,
   "metadata": {},
   "outputs": [],
   "source": [
    "gene_names = []\n",
    "gene_scores = []\n",
    "gene_pvalues = []\n",
    "gene_fdr = []\n",
    "gene_foldchange = []\n",
    "for x in range(flat_scores.shape[1]):\n",
    "    up_mask = flat_scores[:, x] > 0\n",
    "    scores = flat_scores[up_mask, x]\n",
    "    pvals = flat_pvals[up_mask, x]\n",
    "    genes = np.array(adata.var_names)[up_mask]\n",
    "    fdr = flat_fdr[up_mask, x]\n",
    "    selected = np.argsort(fdr)[:100]\n",
    "    order = np.argsort(scores[selected])[::-1]\n",
    "    gene_names.append(genes[selected][order])\n",
    "    gene_scores.append(scores[selected][order])\n",
    "    gene_pvalues.append(pvals[selected][order])\n",
    "    gene_fdr.append(fdr[selected][order])\n",
    "    gene_foldchange.append(scores[selected][order])"
   ]
  },
  {
   "cell_type": "code",
   "execution_count": null,
   "metadata": {},
   "outputs": [],
   "source": [
    "adata.uns['flat_gene_glm'] = {\n",
    "    'params': {'groupby': 'nsbm_level_2',\n",
    "              'reference': 'rest',\n",
    "              'method': 'GLM',\n",
    "              'use_raw': False,\n",
    "              'layer': None,\n",
    "              'corr_method': 'benjamini-hochberg'},\n",
    "    'scores': np.rec.fromarrays([n for n in gene_scores], dtype=[(rn, 'float32') for rn in adata.obs.nsbm_level_2.cat.categories]),\n",
    "    'logfoldchanges': np.rec.fromarrays([n for n in gene_scores], dtype=[(rn, 'float32') for rn in adata.obs.nsbm_level_2.cat.categories]),    \n",
    "    'pvals': np.rec.fromarrays([n for n in gene_pvalues], dtype=[(rn, 'float32') for rn in adata.obs.nsbm_level_2.cat.categories]),    \n",
    "    'pvals_adj': np.rec.fromarrays([n for n in gene_fdr], dtype=[(rn, 'float32') for rn in adata.obs.nsbm_level_2.cat.categories]),        \n",
    "    'names': np.rec.fromarrays([n for n in gene_names], dtype=[(rn, 'U50') for rn in adata.obs.nsbm_level_2.cat.categories]),        \n",
    "}"
   ]
  },
  {
   "cell_type": "code",
   "execution_count": null,
   "metadata": {},
   "outputs": [],
   "source": [
    "weight_model = [sm.GLM(expr_values[:, x], sm.add_constant(marginals)) for x in range(expr_values.shape[1])]\n",
    "weight_results = [x.fit() for x in weight_model]"
   ]
  },
  {
   "cell_type": "code",
   "execution_count": null,
   "metadata": {},
   "outputs": [],
   "source": [
    "weight_scores = np.array([x.params[1:] for x in weight_results])\n",
    "weight_pvals = np.array([x.pvalues[1:] for x in weight_results])\n",
    "weight_fdr = np.array([sm.stats.multipletests(weight_pvals[:, x], method='fdr_bh')[1] for x in range(weight_pvals.shape[1])]).T"
   ]
  },
  {
   "cell_type": "code",
   "execution_count": null,
   "metadata": {},
   "outputs": [],
   "source": [
    "gene_names = []\n",
    "gene_scores = []\n",
    "gene_pvalues = []\n",
    "gene_fdr = []\n",
    "gene_foldchange = []\n",
    "for x in range(weight_scores.shape[1]):\n",
    "    up_mask = weight_scores[:, x] > 0\n",
    "    scores = weight_scores[up_mask, x]\n",
    "    pvals = weight_pvals[up_mask, x]\n",
    "    genes = np.array(adata.var_names)[up_mask]\n",
    "    fdr = weight_fdr[up_mask, x]\n",
    "    selected = np.argsort(fdr)[:100]\n",
    "    order = np.argsort(scores[selected])[::-1]\n",
    "    gene_names.append(genes[selected][order])\n",
    "    gene_scores.append(scores[selected][order])\n",
    "    gene_pvalues.append(pvals[selected][order])\n",
    "    gene_fdr.append(fdr[selected][order])\n",
    "    gene_foldchange.append(scores[selected][order])"
   ]
  },
  {
   "cell_type": "code",
   "execution_count": null,
   "metadata": {},
   "outputs": [],
   "source": [
    "adata.uns['weight_gene_glm'] = {\n",
    "    'params': {'groupby': 'nsbm_level_2',\n",
    "              'reference': 'rest',\n",
    "              'method': 'GLM',\n",
    "              'use_raw': False,\n",
    "              'layer': None,\n",
    "              'corr_method': 'benjamini-hochberg'},\n",
    "    'scores': np.rec.fromarrays([n for n in gene_scores], dtype=[(rn, 'float32') for rn in adata.obs.nsbm_level_2.cat.categories]),\n",
    "    'logfoldchanges': np.rec.fromarrays([n for n in gene_scores], dtype=[(rn, 'float32') for rn in adata.obs.nsbm_level_2.cat.categories]),    \n",
    "    'pvals': np.rec.fromarrays([n for n in gene_pvalues], dtype=[(rn, 'float32') for rn in adata.obs.nsbm_level_2.cat.categories]),    \n",
    "    'pvals_adj': np.rec.fromarrays([n for n in gene_fdr], dtype=[(rn, 'float32') for rn in adata.obs.nsbm_level_2.cat.categories]),        \n",
    "    'names': np.rec.fromarrays([n for n in gene_names], dtype=[(rn, 'U50') for rn in adata.obs.nsbm_level_2.cat.categories]),        \n",
    "}"
   ]
  },
  {
   "cell_type": "markdown",
   "metadata": {},
   "source": [
    "Once the two models have been created, we can plot the top 20 marker genes. Note that many marker genes are still found in the weighted model, however some differences can be spot."
   ]
  },
  {
   "cell_type": "code",
   "execution_count": null,
   "metadata": {},
   "outputs": [],
   "source": [
    "sc.pl.rank_genes_groups(adata, n_genes=20, sharey=False, ncols=2, key='flat_gene_glm')"
   ]
  },
  {
   "cell_type": "code",
   "execution_count": null,
   "metadata": {},
   "outputs": [],
   "source": [
    "sc.pl.rank_genes_groups(adata, n_genes=20, sharey=False, ncols=2, key='weight_gene_glm')"
   ]
  },
  {
   "cell_type": "markdown",
   "metadata": {},
   "source": [
    "Of course, we can compare this genes to the ones that could be extracted from leiden grouping. For that we are using, again, the GLM in place of t-test"
   ]
  },
  {
   "cell_type": "code",
   "execution_count": null,
   "metadata": {},
   "outputs": [],
   "source": [
    "ldn_groups = sm.tools.categorical(data = adata.obs, col='leiden', drop=True) #convert to dummy variables\n",
    "ldn_model = [sm.GLM(expr_values[:, x], sm.add_constant(ldn_groups)) for x in range(expr_values.shape[1])]\n",
    "ldn_results = [x.fit() for x in ldn_model]\n",
    "ldn_scores = np.array([x.params[1:] for x in ldn_results])\n",
    "ldn_pvals = np.array([x.pvalues[1:] for x in ldn_results])\n",
    "ldn_fdr = np.array([sm.stats.multipletests(ldn_pvals[:, x], method='fdr_bh')[1] for x in range(ldn_pvals.shape[1])]).T"
   ]
  },
  {
   "cell_type": "code",
   "execution_count": null,
   "metadata": {},
   "outputs": [],
   "source": [
    "gene_names = []\n",
    "gene_scores = []\n",
    "gene_pvalues = []\n",
    "gene_fdr = []\n",
    "gene_foldchange = []\n",
    "for x in range(ldn_scores.shape[1]):\n",
    "    up_mask = ldn_scores[:, x] > 0\n",
    "    scores = ldn_scores[up_mask, x]\n",
    "    pvals = ldn_pvals[up_mask, x]\n",
    "    genes = np.array(adata.var_names)[up_mask]\n",
    "    fdr = ldn_fdr[up_mask, x]\n",
    "    selected = np.argsort(fdr)[:100]\n",
    "    order = np.argsort(scores[selected])[::-1]\n",
    "    gene_names.append(genes[selected][order])\n",
    "    gene_scores.append(scores[selected][order])\n",
    "    gene_pvalues.append(pvals[selected][order])\n",
    "    gene_fdr.append(fdr[selected][order])\n",
    "    gene_foldchange.append(scores[selected][order])"
   ]
  },
  {
   "cell_type": "code",
   "execution_count": null,
   "metadata": {},
   "outputs": [],
   "source": [
    "adata.uns['leiden_gene_glm'] = {\n",
    "    'params': {'groupby': 'nsbm_level_2',\n",
    "              'reference': 'rest',\n",
    "              'method': 'GLM',\n",
    "              'use_raw': False,\n",
    "              'layer': None,\n",
    "              'corr_method': 'benjamini-hochberg'},\n",
    "    'scores': np.rec.fromarrays([n for n in gene_scores], dtype=[(rn, 'float32') for rn in adata.obs.leiden.cat.categories]),\n",
    "    'logfoldchanges': np.rec.fromarrays([n for n in gene_scores], dtype=[(rn, 'float32') for rn in adata.obs.leiden.cat.categories]),    \n",
    "    'pvals': np.rec.fromarrays([n for n in gene_pvalues], dtype=[(rn, 'float32') for rn in adata.obs.leiden.cat.categories]),    \n",
    "    'pvals_adj': np.rec.fromarrays([n for n in gene_fdr], dtype=[(rn, 'float32') for rn in adata.obs.leiden.cat.categories]),        \n",
    "    'names': np.rec.fromarrays([n for n in gene_names], dtype=[(rn, 'U50') for rn in adata.obs.leiden.cat.categories]),        \n",
    "}"
   ]
  },
  {
   "cell_type": "code",
   "execution_count": null,
   "metadata": {},
   "outputs": [],
   "source": [
    "sc.pl.rank_genes_groups(adata, n_genes=20, sharey=False, ncols=2, key='leiden_gene_glm')"
   ]
  },
  {
   "cell_type": "code",
   "execution_count": null,
   "metadata": {},
   "outputs": [],
   "source": []
  }
 ],
 "metadata": {
  "kernelspec": {
   "display_name": "Python 3",
   "language": "python",
   "name": "python3"
  },
  "language_info": {
   "codemirror_mode": {
    "name": "ipython",
    "version": 3
   },
   "file_extension": ".py",
   "mimetype": "text/x-python",
   "name": "python",
   "nbconvert_exporter": "python",
   "pygments_lexer": "ipython3",
   "version": "3.7.3"
  }
 },
 "nbformat": 4,
 "nbformat_minor": 2
}
